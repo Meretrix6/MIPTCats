{
 "cells": [
  {
   "cell_type": "code",
   "execution_count": 5,
   "metadata": {},
   "outputs": [
    {
     "name": "stdout",
     "output_type": "stream",
     "text": [
      "loading Roboflow workspace...\n",
      "loading Roboflow project...\n"
     ]
    }
   ],
   "source": [
    "from roboflow import Roboflow\n",
    "\n",
    "# Наша модель\n",
    "rf_cats = Roboflow(api_key=\"yAV8c8VxFzT7RXVpeS3a\")\n",
    "project_cats = rf_cats.workspace().project(\"wheather-classification\")\n",
    "model_cats = project_cats.version(1).model\n",
    "\n",
    "# Модель из интернета\n",
    "rf = Roboflow(api_key=\"yAV8c8VxFzT7RXVpeS3a\")\n",
    "project = rf.workspace().project(\"weather-classification-w5xug\")\n",
    "model = project.version(8).model"
   ]
  },
  {
   "cell_type": "code",
   "execution_count": 6,
   "metadata": {},
   "outputs": [
    {
     "name": "stdout",
     "output_type": "stream",
     "text": [
      "{'predictions': [{'time': 0.1719753209999908, 'image': {'width': 266, 'height': 400}, 'predictions': {'fogsmog': {'confidence': 0.01776525378227234}, 'frost': {'confidence': 0.020377516746520996}, 'lightning': {'confidence': 0.016027748584747314}, 'rain': {'confidence': 0.9434818029403687}, 'rainbow': {'confidence': 0.015001416206359863}, 'sandstorm': {'confidence': 0.02014896273612976}, 'snow': {'confidence': 0.026154160499572754}, 'sunrise': {'confidence': 0.015907704830169678}}, 'predicted_classes': ['rain'], 'image_path': 'test_data/11.jpg', 'prediction_type': 'ClassificationModel'}], 'image': (400, 266)}\n",
      "{'predictions': [{'time': 0.3116134039998997, 'image': {'width': 867, 'height': 1300}, 'predictions': {'fogsmog': {'confidence': 0.02470800280570984}, 'frost': {'confidence': 0.017127394676208496}, 'lightning': {'confidence': 0.01253896951675415}, 'rain': {'confidence': 0.42170989513397217}, 'rainbow': {'confidence': 0.47663456201553345}, 'sandstorm': {'confidence': 0.009669363498687744}, 'snow': {'confidence': 0.015564501285552979}, 'sunrise': {'confidence': 0.014175385236740112}}, 'predicted_classes': [], 'image_path': 'test_data/1688761400_kartin-papik-pro-p-kartinki-vechernii-dozhd-52.jpg', 'prediction_type': 'ClassificationModel'}], 'image': (1300, 867)}\n",
      "{'predictions': [{'time': 0.17662026099992545, 'image': {'width': 391, 'height': 400}, 'predictions': {'fogsmog': {'confidence': 0.023940742015838623}, 'frost': {'confidence': 0.028307288885116577}, 'lightning': {'confidence': 0.9249942898750305}, 'rain': {'confidence': 0.017426729202270508}, 'rainbow': {'confidence': 0.016372770071029663}, 'sandstorm': {'confidence': 0.02166023850440979}, 'snow': {'confidence': 0.03141379356384277}, 'sunrise': {'confidence': 0.0148734450340271}}, 'predicted_classes': ['lightning'], 'image_path': 'test_data/1830.jpg', 'prediction_type': 'ClassificationModel'}], 'image': (400, 391)}\n"
     ]
    }
   ],
   "source": [
    "\n",
    "print(model_cats.predict(\"test_data/11.jpg\").json())\n",
    "print(model_cats.predict(\"test_data/1688761400_kartin-papik-pro-p-kartinki-vechernii-dozhd-52.jpg\").json())\n",
    "print(model_cats.predict(\"test_data/1830.jpg\").json())\n"
   ]
  },
  {
   "cell_type": "code",
   "execution_count": 3,
   "metadata": {},
   "outputs": [
    {
     "name": "stdout",
     "output_type": "stream",
     "text": [
      "loading Roboflow workspace...\n",
      "loading Roboflow project...\n",
      "{'predictions': [{'time': 0.15472384299937403, 'image': {'width': 400, 'height': 266}, 'predictions': [{'class': 'Rain', 'class_id': 1, 'confidence': 0.9999}, {'class': 'Cloudy', 'class_id': 0, 'confidence': 0.0001}, {'class': 'Shine', 'class_id': 2, 'confidence': 0.0}, {'class': 'Sunrise', 'class_id': 3, 'confidence': 0.0}, {'class': 'Tornado', 'class_id': 4, 'confidence': 0.0}], 'top': 'Rain', 'confidence': 0.9999, 'image_path': 'test_data/11.jpg', 'prediction_type': 'ClassificationModel'}], 'image': (400, 266)}\n",
      "{'predictions': [{'time': 0.13788027800001146, 'image': {'width': 1300, 'height': 867}, 'predictions': [{'class': 'Rain', 'class_id': 1, 'confidence': 0.9995}, {'class': 'Shine', 'class_id': 2, 'confidence': 0.0004}, {'class': 'Cloudy', 'class_id': 0, 'confidence': 0.0}, {'class': 'Sunrise', 'class_id': 3, 'confidence': 0.0}, {'class': 'Tornado', 'class_id': 4, 'confidence': 0.0}], 'top': 'Rain', 'confidence': 0.9995, 'image_path': 'test_data/1688761400_kartin-papik-pro-p-kartinki-vechernii-dozhd-52.jpg', 'prediction_type': 'ClassificationModel'}], 'image': (1300, 867)}\n",
      "{'predictions': [{'time': 0.12152257500019914, 'image': {'width': 400, 'height': 391}, 'predictions': [{'class': 'Shine', 'class_id': 2, 'confidence': 0.9841}, {'class': 'Rain', 'class_id': 1, 'confidence': 0.0133}, {'class': 'Cloudy', 'class_id': 0, 'confidence': 0.0018}, {'class': 'Tornado', 'class_id': 4, 'confidence': 0.0005}, {'class': 'Sunrise', 'class_id': 3, 'confidence': 0.0003}], 'top': 'Shine', 'confidence': 0.9841, 'image_path': 'test_data/1830.jpg', 'prediction_type': 'ClassificationModel'}], 'image': (400, 391)}\n"
     ]
    }
   ],
   "source": [
    "\n",
    "print(model.predict(\"test_data/11.jpg\").json())\n",
    "print(model.predict(\"test_data/1688761400_kartin-papik-pro-p-kartinki-vechernii-dozhd-52.jpg\").json())\n",
    "print(model.predict(\"test_data/1830.jpg\").json())"
   ]
  }
 ],
 "metadata": {
  "kernelspec": {
   "display_name": "Python 3",
   "language": "python",
   "name": "python3"
  },
  "language_info": {
   "codemirror_mode": {
    "name": "ipython",
    "version": 3
   },
   "file_extension": ".py",
   "mimetype": "text/x-python",
   "name": "python",
   "nbconvert_exporter": "python",
   "pygments_lexer": "ipython3",
   "version": "3.11.5"
  }
 },
 "nbformat": 4,
 "nbformat_minor": 2
}
